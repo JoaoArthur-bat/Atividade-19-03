{
 "cells": [
  {
   "cell_type": "code",
   "execution_count": 2,
   "id": "1f67dc34-000a-4809-bab9-65547188886c",
   "metadata": {},
   "outputs": [],
   "source": [
    "import pandas as pd"
   ]
  },
  {
   "cell_type": "code",
   "execution_count": 4,
   "id": "ae87bf8e-4e67-45ff-bea3-df6aa39bf396",
   "metadata": {},
   "outputs": [],
   "source": [
    "df = pd.read_csv('vendas_de_ingressos.csv')"
   ]
  },
  {
   "cell_type": "code",
   "execution_count": 6,
   "id": "83c77c92-30f4-4aa3-a072-603f6ac21d44",
   "metadata": {},
   "outputs": [
    {
     "name": "stdout",
     "output_type": "stream",
     "text": [
      "Número de linhas e colunas: (1440, 7)\n"
     ]
    }
   ],
   "source": [
    "print(\"Número de linhas e colunas:\", df.shape)\n"
   ]
  },
  {
   "cell_type": "code",
   "execution_count": 8,
   "id": "8bc0e0a8-9263-42de-8dc3-50b976a63e17",
   "metadata": {},
   "outputs": [
    {
     "name": "stdout",
     "output_type": "stream",
     "text": [
      "  Ticket_ID  Age  Ticket_Price Movie_Genre Seat_Type Number_of_Person  \\\n",
      "0     N4369   55         12.27      Comedy  Standard                7   \n",
      "1     B8091   35         19.02       Drama  Standard            Alone   \n",
      "2     V6341   55         22.52      Horror       VIP                3   \n",
      "3     B3243   53         23.01       Drama  Standard                6   \n",
      "4     I3814   30         21.81      Comedy       VIP                4   \n",
      "5     E5655   28         11.58      Horror       VIP            Alone   \n",
      "6     P1526   50         22.91      Action  Standard            Alone   \n",
      "\n",
      "  Purchase_Again  \n",
      "0             No  \n",
      "1            Yes  \n",
      "2             No  \n",
      "3            Yes  \n",
      "4            Yes  \n",
      "5            Yes  \n",
      "6            Yes  \n"
     ]
    }
   ],
   "source": [
    "print(df.head(7))"
   ]
  },
  {
   "cell_type": "code",
   "execution_count": 10,
   "id": "b45b9ea4-b7d9-4fee-a7f7-48c28544bb02",
   "metadata": {},
   "outputs": [
    {
     "name": "stdout",
     "output_type": "stream",
     "text": [
      "     Ticket_ID  Age  Ticket_Price Movie_Genre Seat_Type Number_of_Person  \\\n",
      "1430     P4816   32         19.23       Drama   Premium                2   \n",
      "1431     Q9931   29         14.60      Action       VIP                5   \n",
      "1432     A3974   58         12.04      Action  Standard            Alone   \n",
      "1433     P4007   47         23.12      Action   Premium                6   \n",
      "1434     B1567   21         10.41      Comedy       VIP                5   \n",
      "1435     E5406   41         17.09      Sci-Fi  Standard                2   \n",
      "1436     C4357   19         11.45      Action  Standard            Alone   \n",
      "1437     R7285   53         17.13      Comedy   Premium            Alone   \n",
      "1438     W6360   34         20.25      Comedy   Premium                2   \n",
      "1439     Z8034   60         21.90      Action       VIP            Alone   \n",
      "\n",
      "     Purchase_Again  \n",
      "1430             No  \n",
      "1431             No  \n",
      "1432            Yes  \n",
      "1433             No  \n",
      "1434            Yes  \n",
      "1435            Yes  \n",
      "1436             No  \n",
      "1437            Yes  \n",
      "1438            Yes  \n",
      "1439             No  \n"
     ]
    }
   ],
   "source": [
    "print(df.tail(10))"
   ]
  },
  {
   "cell_type": "code",
   "execution_count": 12,
   "id": "f1f3a50c-527b-45ba-8e26-2e21c2691101",
   "metadata": {},
   "outputs": [],
   "source": [
    "df.rename(columns={\n",
    "    'Age': 'Idade',\n",
    "    'Ticket_Price': 'Preco_do_Ingresso',\n",
    "    'Movie_Genre': 'Genero',\n",
    "    'Seat_Type': 'Tipo_de_Assento',\n",
    "    'Number_of_Person': 'Numero_de_Pessoas',\n",
    "    'Purchase_Again': 'Compraria_Novamente'\n",
    "}, inplace=True)"
   ]
  },
  {
   "cell_type": "code",
   "execution_count": 14,
   "id": "4ad5ca7c-6e83-4014-a575-766644dd1fbb",
   "metadata": {},
   "outputs": [
    {
     "name": "stdout",
     "output_type": "stream",
     "text": [
      "             Idade  Preco_do_Ingresso\n",
      "count  1440.000000        1440.000000\n",
      "mean     38.904861          17.383972\n",
      "std      12.426293           4.397087\n",
      "min      18.000000          10.010000\n",
      "25%      28.000000          13.640000\n",
      "50%      39.000000          17.280000\n",
      "75%      50.000000          21.392500\n",
      "max      60.000000          24.990000\n"
     ]
    }
   ],
   "source": [
    "print(df.describe())\n"
   ]
  },
  {
   "cell_type": "code",
   "execution_count": 16,
   "id": "90f0d891-d1d5-4a8b-aafb-ccba5b2d7ed2",
   "metadata": {},
   "outputs": [
    {
     "name": "stdout",
     "output_type": "stream",
     "text": [
      "Empty DataFrame\n",
      "Columns: [Ticket_ID, Idade, Preco_do_Ingresso, Genero, Tipo_de_Assento, Numero_de_Pessoas, Compraria_Novamente]\n",
      "Index: []\n"
     ]
    }
   ],
   "source": [
    "filtro_acao = df.loc[df['Genero'] == 'Ação']\n",
    "print(filtro_acao)\n"
   ]
  },
  {
   "cell_type": "code",
   "execution_count": 18,
   "id": "4f6182a2-f20f-4f5a-8e83-eb761184f445",
   "metadata": {},
   "outputs": [
    {
     "name": "stdout",
     "output_type": "stream",
     "text": [
      "   Ticket_ID  Idade  Preco_do_Ingresso  Genero Tipo_de_Assento  \\\n",
      "11     L2502     56              14.06  Comedy             VIP   \n",
      "12     P4991     40              16.75  Horror             VIP   \n",
      "13     L1185     26              23.39   Drama         Premium   \n",
      "14     M6402     22              22.29  Sci-Fi         Premium   \n",
      "15     S3535     42              12.31  Horror             VIP   \n",
      "16     C1073     44              17.85  Comedy         Premium   \n",
      "17     I7517     35              21.49  Horror             VIP   \n",
      "18     Q8198     26              22.32  Comedy             VIP   \n",
      "19     E1293     54              15.68  Horror             VIP   \n",
      "\n",
      "   Numero_de_Pessoas Compraria_Novamente  \n",
      "11             Alone                  No  \n",
      "12                 6                  No  \n",
      "13             Alone                  No  \n",
      "14             Alone                 Yes  \n",
      "15             Alone                  No  \n",
      "16             Alone                  No  \n",
      "17                 2                 Yes  \n",
      "18                 5                 Yes  \n",
      "19             Alone                 Yes  \n"
     ]
    }
   ],
   "source": [
    "print(df.iloc[11:20])"
   ]
  },
  {
   "cell_type": "code",
   "execution_count": 20,
   "id": "70a6c4ab-9a42-4d08-a65c-81492dbb7f7e",
   "metadata": {},
   "outputs": [
    {
     "name": "stdout",
     "output_type": "stream",
     "text": [
      "   Ticket_ID  Idade  Preco_do_Ingresso  Genero Tipo_de_Assento  \\\n",
      "34     R0385     33              10.05  Action        Standard   \n",
      "37     A6397     58              15.81   Drama         Premium   \n",
      "41     K1926     59              21.20  Comedy             VIP   \n",
      "49     H0893     57              15.86  Horror             VIP   \n",
      "\n",
      "   Numero_de_Pessoas Compraria_Novamente  \n",
      "34             Alone                  No  \n",
      "37                 5                 Yes  \n",
      "41                 4                 Yes  \n",
      "49             Alone                  No  \n"
     ]
    }
   ],
   "source": [
    "print(df.iloc[[34, 37, 41, 49]])\n"
   ]
  },
  {
   "cell_type": "code",
   "execution_count": 22,
   "id": "65725916-c452-45b2-8d70-b86cada2d045",
   "metadata": {},
   "outputs": [
    {
     "name": "stdout",
     "output_type": "stream",
     "text": [
      "     Ticket_ID  Idade  Preco_do_Ingresso  Genero Tipo_de_Assento  \\\n",
      "0        N4369     55              12.27  Comedy        Standard   \n",
      "1        B8091     35              19.02   Drama        Standard   \n",
      "3        B3243     53              23.01   Drama        Standard   \n",
      "6        P1526     50              22.91  Action        Standard   \n",
      "8        A2029     46              12.12  Sci-Fi        Standard   \n",
      "...        ...    ...                ...     ...             ...   \n",
      "1425     N7743     38              24.21  Sci-Fi        Standard   \n",
      "1429     I9961     41              22.48  Sci-Fi        Standard   \n",
      "1432     A3974     58              12.04  Action        Standard   \n",
      "1435     E5406     41              17.09  Sci-Fi        Standard   \n",
      "1436     C4357     19              11.45  Action        Standard   \n",
      "\n",
      "     Numero_de_Pessoas Compraria_Novamente  \n",
      "0                    7                  No  \n",
      "1                Alone                 Yes  \n",
      "3                    6                 Yes  \n",
      "6                Alone                 Yes  \n",
      "8                Alone                 Yes  \n",
      "...                ...                 ...  \n",
      "1425             Alone                 Yes  \n",
      "1429             Alone                  No  \n",
      "1432             Alone                 Yes  \n",
      "1435                 2                 Yes  \n",
      "1436             Alone                  No  \n",
      "\n",
      "[475 rows x 7 columns]\n"
     ]
    }
   ],
   "source": [
    "print(df.loc[df['Tipo_de_Assento'] == 'Standard'])"
   ]
  },
  {
   "cell_type": "code",
   "execution_count": 24,
   "id": "611c3486-9058-4158-96de-bd5f44e58817",
   "metadata": {},
   "outputs": [
    {
     "name": "stdout",
     "output_type": "stream",
     "text": [
      "     Ticket_ID  Idade  Preco_do_Ingresso  Genero Tipo_de_Assento  \\\n",
      "1        B8091     35              19.02   Drama        Standard   \n",
      "4        I3814     30              21.81  Comedy             VIP   \n",
      "5        E5655     28              11.58  Horror             VIP   \n",
      "7        V4726     44              23.09  Sci-Fi         Premium   \n",
      "12       P4991     40              16.75  Horror             VIP   \n",
      "...        ...    ...                ...     ...             ...   \n",
      "1430     P4816     32              19.23   Drama         Premium   \n",
      "1431     Q9931     29              14.60  Action             VIP   \n",
      "1434     B1567     21              10.41  Comedy             VIP   \n",
      "1435     E5406     41              17.09  Sci-Fi        Standard   \n",
      "1438     W6360     34              20.25  Comedy         Premium   \n",
      "\n",
      "     Numero_de_Pessoas Compraria_Novamente  \n",
      "1                Alone                 Yes  \n",
      "4                    4                 Yes  \n",
      "5                Alone                 Yes  \n",
      "7                    7                 Yes  \n",
      "12                   6                  No  \n",
      "...                ...                 ...  \n",
      "1430                 2                  No  \n",
      "1431                 5                  No  \n",
      "1434                 5                 Yes  \n",
      "1435                 2                 Yes  \n",
      "1438                 2                 Yes  \n",
      "\n",
      "[886 rows x 7 columns]\n"
     ]
    }
   ],
   "source": [
    "print(df.loc[(df['Idade'] >= 20) & (df['Idade'] <= 45)])"
   ]
  },
  {
   "cell_type": "code",
   "execution_count": 26,
   "id": "c46a4b94-b26d-484c-b77c-2999361b3eb8",
   "metadata": {},
   "outputs": [],
   "source": [
    "df_comedy = df.loc[df['Genero'] == 'Comedy']"
   ]
  },
  {
   "cell_type": "code",
   "execution_count": 30,
   "id": "e84fc93d-7f60-4052-891d-6c73907a0914",
   "metadata": {},
   "outputs": [
    {
     "name": "stdout",
     "output_type": "stream",
     "text": [
      "      Preco_do_Ingresso  Genero Tipo_de_Assento\n",
      "1                 19.02   Drama        Standard\n",
      "3                 23.01   Drama        Standard\n",
      "4                 21.81  Comedy             VIP\n",
      "5                 11.58  Horror             VIP\n",
      "6                 22.91  Action        Standard\n",
      "...                 ...     ...             ...\n",
      "1432              12.04  Action        Standard\n",
      "1434              10.41  Comedy             VIP\n",
      "1435              17.09  Sci-Fi        Standard\n",
      "1437              17.13  Comedy         Premium\n",
      "1438              20.25  Comedy         Premium\n",
      "\n",
      "[707 rows x 3 columns]\n"
     ]
    }
   ],
   "source": [
    "df4 = df[['Preco_do_Ingresso', 'Genero', 'Tipo_de_Assento']].loc[df['Compraria_Novamente'] == 'Yes']\n",
    "print(df4)"
   ]
  },
  {
   "cell_type": "code",
   "execution_count": 32,
   "id": "da8dfc6b-3b21-47b5-841f-91b23be407a3",
   "metadata": {},
   "outputs": [],
   "source": [
    "nova_serie = df['Tipo_de_Assento']"
   ]
  },
  {
   "cell_type": "code",
   "execution_count": 34,
   "id": "44e254dd-3194-43a9-9659-835e66bdf44e",
   "metadata": {},
   "outputs": [],
   "source": [
    "df.drop(columns=['Ticket_ID'], inplace=True)"
   ]
  },
  {
   "cell_type": "code",
   "execution_count": 36,
   "id": "54bbf93a-e0aa-4fbe-9bee-78ba10c3c58e",
   "metadata": {},
   "outputs": [
    {
     "name": "stdout",
     "output_type": "stream",
     "text": [
      "Idade                  0\n",
      "Preco_do_Ingresso      0\n",
      "Genero                 0\n",
      "Tipo_de_Assento        0\n",
      "Numero_de_Pessoas      0\n",
      "Compraria_Novamente    0\n",
      "dtype: int64\n"
     ]
    }
   ],
   "source": [
    "print(df.isnull().sum())"
   ]
  },
  {
   "cell_type": "code",
   "execution_count": 38,
   "id": "27d2b6c0-8865-42f9-8eb8-e8c443735928",
   "metadata": {},
   "outputs": [
    {
     "name": "stdout",
     "output_type": "stream",
     "text": [
      "Idade                  0\n",
      "Preco_do_Ingresso      0\n",
      "Genero                 0\n",
      "Tipo_de_Assento        0\n",
      "Numero_de_Pessoas      0\n",
      "Compraria_Novamente    0\n",
      "dtype: int64\n"
     ]
    }
   ],
   "source": [
    "print(df.isna().sum())"
   ]
  },
  {
   "cell_type": "code",
   "execution_count": 40,
   "id": "d7dc757b-e27a-42a0-92c8-375212549084",
   "metadata": {},
   "outputs": [
    {
     "name": "stdout",
     "output_type": "stream",
     "text": [
      "    Idade  Preco_do_Ingresso  Genero\n",
      "14     22              22.29  Sci-Fi\n",
      "15     42              12.31  Horror\n",
      "16     44              17.85  Comedy\n",
      "17     35              21.49  Horror\n",
      "18     26              22.32  Comedy\n",
      "19     54              15.68  Horror\n"
     ]
    }
   ],
   "source": [
    "print(df.iloc[14:20][['Idade', 'Preco_do_Ingresso', 'Genero']])\n"
   ]
  },
  {
   "cell_type": "code",
   "execution_count": 42,
   "id": "c416a0a8-0212-4735-b240-fe64f464946a",
   "metadata": {},
   "outputs": [
    {
     "name": "stdout",
     "output_type": "stream",
     "text": [
      "    Genero Numero_de_Pessoas\n",
      "2   Horror                 3\n",
      "7   Sci-Fi                 7\n",
      "9   Action             Alone\n",
      "12  Horror                 6\n"
     ]
    }
   ],
   "source": [
    "print(df.iloc[[2, 7, 9, 12]][['Genero', 'Numero_de_Pessoas']])"
   ]
  },
  {
   "cell_type": "code",
   "execution_count": null,
   "id": "c2fab2e1-afe6-477c-a699-a6afefc6c54c",
   "metadata": {},
   "outputs": [],
   "source": []
  }
 ],
 "metadata": {
  "kernelspec": {
   "display_name": "Python [conda env:base] *",
   "language": "python",
   "name": "conda-base-py"
  },
  "language_info": {
   "codemirror_mode": {
    "name": "ipython",
    "version": 3
   },
   "file_extension": ".py",
   "mimetype": "text/x-python",
   "name": "python",
   "nbconvert_exporter": "python",
   "pygments_lexer": "ipython3",
   "version": "3.12.7"
  }
 },
 "nbformat": 4,
 "nbformat_minor": 5
}
