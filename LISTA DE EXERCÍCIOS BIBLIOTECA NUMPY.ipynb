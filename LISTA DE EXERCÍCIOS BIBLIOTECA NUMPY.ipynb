{
 "cells": [
  {
   "cell_type": "code",
   "execution_count": 1,
   "id": "442f0d15-ede3-4c9c-bfc3-1705ea6693cc",
   "metadata": {},
   "outputs": [],
   "source": [
    "import numpy as np"
   ]
  },
  {
   "cell_type": "code",
   "execution_count": 3,
   "id": "f6152181-908c-4d24-9663-4257b3963f79",
   "metadata": {},
   "outputs": [
    {
     "name": "stdout",
     "output_type": "stream",
     "text": [
      "[3.0, 5.0, 9.0, 16.0, 25.0]\n"
     ]
    }
   ],
   "source": [
    "array = [3, 5, 9, 16, 25]\n",
    "float_array = [float(num) for num in array]\n",
    "print(float_array)\n"
   ]
  },
  {
   "cell_type": "code",
   "execution_count": 7,
   "id": "22429bff-dd28-4e93-b3f5-66603a16d81a",
   "metadata": {},
   "outputs": [
    {
     "name": "stdout",
     "output_type": "stream",
     "text": [
      "[1, -3, 8, 16]\n"
     ]
    }
   ],
   "source": [
    "array = [1.2, -3.6, 8.99999, 16.1]\n",
    "int_array = [int(num) for num in array]\n",
    "print(int_array)\n"
   ]
  },
  {
   "cell_type": "code",
   "execution_count": 17,
   "id": "28d561e1-45de-4e1a-9894-da497079b14d",
   "metadata": {},
   "outputs": [
    {
     "name": "stdout",
     "output_type": "stream",
     "text": [
      "[[0. 0. 0. 0. 0. 0. 0. 0. 0.]\n",
      " [0. 0. 0. 0. 0. 0. 0. 0. 0.]\n",
      " [0. 0. 0. 0. 0. 0. 0. 0. 0.]]\n"
     ]
    }
   ],
   "source": [
    "\n",
    "matriz = np.zeros((3, 9))\n",
    "print(matriz)\n"
   ]
  },
  {
   "cell_type": "code",
   "execution_count": 19,
   "id": "e2b08d7f-edaa-4b57-a78d-647c8e8f371b",
   "metadata": {},
   "outputs": [
    {
     "name": "stdout",
     "output_type": "stream",
     "text": [
      "[[1 1 1 1 1 1 1]\n",
      " [1 1 1 1 1 1 1]\n",
      " [1 1 1 1 1 1 1]\n",
      " [1 1 1 1 1 1 1]\n",
      " [1 1 1 1 1 1 1]\n",
      " [1 1 1 1 1 1 1]]\n"
     ]
    }
   ],
   "source": [
    "matriz = np.ones((6, 7), dtype=int)\n",
    "print(matriz)\n"
   ]
  },
  {
   "cell_type": "code",
   "execution_count": 21,
   "id": "a1ca1f56-64d4-4f37-9c6d-e8ad459e186a",
   "metadata": {},
   "outputs": [
    {
     "name": "stdout",
     "output_type": "stream",
     "text": [
      "[[1. 0. 0. 0.]\n",
      " [0. 1. 0. 0.]\n",
      " [0. 0. 1. 0.]\n",
      " [0. 0. 0. 1.]]\n"
     ]
    }
   ],
   "source": [
    "matriz_identidade = np.eye(4)\n",
    "print(matriz_identidade)\n"
   ]
  },
  {
   "cell_type": "code",
   "execution_count": 30,
   "id": "b93277ea-f297-43ab-a367-b89f18824588",
   "metadata": {},
   "outputs": [
    {
     "name": "stdout",
     "output_type": "stream",
     "text": [
      "[0.99210357 0.22965647 0.17637646 0.24132989 0.78427352]\n"
     ]
    }
   ],
   "source": [
    "array_aleatorio = np.random.rand(5)\n",
    "print(array_aleatorio)\n"
   ]
  },
  {
   "cell_type": "code",
   "execution_count": 34,
   "id": "76099afd-5112-4531-8241-d0e94a45a2a9",
   "metadata": {},
   "outputs": [
    {
     "name": "stdout",
     "output_type": "stream",
     "text": [
      "[[1 4 0 4 4 1]\n",
      " [2 3 0 4 5 5]\n",
      " [5 1 1 5 2 0]]\n",
      "[[  4   6   8]\n",
      " [ -4   3   2]\n",
      " [ 22 -15  12]]\n"
     ]
    }
   ],
   "source": [
    "matriz_aleatoria = np.random.randint(0, 6, (3, 6))\n",
    "print(matriz_aleatoria)\n",
    "\n",
    "matriz_exercicios = np.array([[4, 6, 8], [-4, 3, 2], [22, -15, 12]])\n",
    "print(matriz_exercicios)\n"
   ]
  },
  {
   "cell_type": "code",
   "execution_count": 36,
   "id": "5bae633b-297a-4a68-b63c-0a3cd2850ceb",
   "metadata": {},
   "outputs": [
    {
     "name": "stdout",
     "output_type": "stream",
     "text": [
      "22\n"
     ]
    }
   ],
   "source": [
    "valor_maximo = np.max(matriz_exercicios)\n",
    "print(valor_maximo)\n"
   ]
  },
  {
   "cell_type": "code",
   "execution_count": 38,
   "id": "56e04681-0932-445a-aa35-4e9bdfd47530",
   "metadata": {},
   "outputs": [
    {
     "name": "stdout",
     "output_type": "stream",
     "text": [
      "-15\n"
     ]
    }
   ],
   "source": [
    "valor_minimo = np.min(matriz_exercicios)\n",
    "print(valor_minimo)\n"
   ]
  },
  {
   "cell_type": "code",
   "execution_count": 40,
   "id": "ad8fa92a-39ac-40d8-9117-c458e543e63d",
   "metadata": {},
   "outputs": [
    {
     "name": "stdout",
     "output_type": "stream",
     "text": [
      "38\n"
     ]
    }
   ],
   "source": [
    "soma_elementos = np.sum(matriz_exercicios)\n",
    "print(soma_elementos)\n"
   ]
  },
  {
   "cell_type": "code",
   "execution_count": 42,
   "id": "82079a0a-8bd0-488d-911f-8bfe52a812a5",
   "metadata": {},
   "outputs": [
    {
     "name": "stdout",
     "output_type": "stream",
     "text": [
      "4.222222222222222\n"
     ]
    }
   ],
   "source": [
    "media_elementos = np.mean(matriz_exercicios)\n",
    "print(media_elementos)\n"
   ]
  },
  {
   "cell_type": "code",
   "execution_count": 44,
   "id": "88a35aa1-62f9-4c66-b8ac-ded25fcebaf1",
   "metadata": {},
   "outputs": [
    {
     "name": "stdout",
     "output_type": "stream",
     "text": [
      "8\n"
     ]
    }
   ],
   "source": [
    "array = [13, -2, 6, 8, 23, 15, 3, 90, 4, 10, 56, 12]\n",
    "quarto_elemento = array[3]\n",
    "print(quarto_elemento)\n"
   ]
  },
  {
   "cell_type": "code",
   "execution_count": 47,
   "id": "873ce5ab-d38e-49b0-8132-5603aec34f55",
   "metadata": {},
   "outputs": [
    {
     "name": "stdout",
     "output_type": "stream",
     "text": [
      "[10, 56, 12]\n"
     ]
    }
   ],
   "source": [
    "ultimos_tres_elementos = array[-3:]\n",
    "print(ultimos_tres_elementos)\n"
   ]
  },
  {
   "cell_type": "code",
   "execution_count": 49,
   "id": "7c415904-2df6-4289-b7b0-512e39a6ff42",
   "metadata": {},
   "outputs": [
    {
     "name": "stdout",
     "output_type": "stream",
     "text": [
      "[6, 8, 23, 15, 3, 90, 4, 10, 56, 12]\n"
     ]
    }
   ],
   "source": [
    "elementos_a_partir_posicao_2 = array[2:]\n",
    "print(elementos_a_partir_posicao_2)\n"
   ]
  },
  {
   "cell_type": "code",
   "execution_count": 51,
   "id": "16052b92-0f74-4f17-a88d-5b4d85a8d9bd",
   "metadata": {},
   "outputs": [
    {
     "name": "stdout",
     "output_type": "stream",
     "text": [
      "[-2, 6, 8, 23, 15]\n"
     ]
    }
   ],
   "source": [
    "array_segmento = array[1:6]\n",
    "print(array_segmento)\n"
   ]
  },
  {
   "cell_type": "code",
   "execution_count": 53,
   "id": "3f7ff80a-2475-4e69-b135-180f22e6fac8",
   "metadata": {},
   "outputs": [
    {
     "name": "stdout",
     "output_type": "stream",
     "text": [
      "[23, 15, 3, 90]\n"
     ]
    }
   ],
   "source": [
    "sub_array = array[4:8]\n",
    "print(sub_array)\n"
   ]
  },
  {
   "cell_type": "code",
   "execution_count": 55,
   "id": "d5cba348-fa6a-4347-bd49-a4ade6c7f82b",
   "metadata": {},
   "outputs": [
    {
     "name": "stdout",
     "output_type": "stream",
     "text": [
      "[19, 4, 8, 15, 13]\n"
     ]
    }
   ],
   "source": [
    "matriz = [[1, 3, 16, -25, 14],\n",
    "          [2, 0, 10, 5, 17],\n",
    "          [19, 4, 8, 15, 13],\n",
    "          [7, 12, -5, 14, 0]]\n",
    "\n",
    "terceira_linha = matriz[2]\n",
    "print(terceira_linha)\n"
   ]
  },
  {
   "cell_type": "code",
   "execution_count": 57,
   "id": "0560042d-a83c-476f-9692-0bde61b58eb2",
   "metadata": {},
   "outputs": [
    {
     "name": "stdout",
     "output_type": "stream",
     "text": [
      "[-25, 5, 15, 14]\n"
     ]
    }
   ],
   "source": [
    "quarta_coluna = [linha[3] for linha in matriz]\n",
    "print(quarta_coluna)\n"
   ]
  },
  {
   "cell_type": "code",
   "execution_count": 59,
   "id": "083a7f79-e6ce-4041-9df5-1af315ee7efa",
   "metadata": {},
   "outputs": [
    {
     "name": "stdout",
     "output_type": "stream",
     "text": [
      "10\n"
     ]
    }
   ],
   "source": [
    "elemento_valor_10 = matriz[1][2]\n",
    "print(elemento_valor_10)\n"
   ]
  },
  {
   "cell_type": "code",
   "execution_count": 61,
   "id": "9f7b1c1a-2045-4a20-9776-b3d1a77fbcc5",
   "metadata": {},
   "outputs": [
    {
     "name": "stdout",
     "output_type": "stream",
     "text": [
      "[[0, 10, 5], [4, 8, 15]]\n"
     ]
    }
   ],
   "source": [
    "nova_matriz = [[0, 10, 5],\n",
    "               [4, 8, 15]]\n",
    "print(nova_matriz)\n"
   ]
  },
  {
   "cell_type": "code",
   "execution_count": 63,
   "id": "55542db3-d785-421e-aa37-0a2cee72f5f1",
   "metadata": {},
   "outputs": [
    {
     "name": "stdout",
     "output_type": "stream",
     "text": [
      "[[2 1 1 2]\n",
      " [1 2 2 1]\n",
      " [1 2 1 1]]\n"
     ]
    }
   ],
   "source": [
    "matriz = np.array([[2, -1, 15, 24],\n",
    "                   [-3, 18, 4, 25],\n",
    "                   [9, 10, -13, 7]])\n",
    "\n",
    "nova_matriz = np.where(matriz % 2 == 0, 2, 1)\n",
    "print(nova_matriz)\n"
   ]
  },
  {
   "cell_type": "code",
   "execution_count": null,
   "id": "9f12033d-f8e6-490c-82ef-98c75976dc23",
   "metadata": {},
   "outputs": [],
   "source": []
  }
 ],
 "metadata": {
  "kernelspec": {
   "display_name": "Python [conda env:base] *",
   "language": "python",
   "name": "conda-base-py"
  },
  "language_info": {
   "codemirror_mode": {
    "name": "ipython",
    "version": 3
   },
   "file_extension": ".py",
   "mimetype": "text/x-python",
   "name": "python",
   "nbconvert_exporter": "python",
   "pygments_lexer": "ipython3",
   "version": "3.12.7"
  }
 },
 "nbformat": 4,
 "nbformat_minor": 5
}
